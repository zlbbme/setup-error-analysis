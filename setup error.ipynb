{
 "cells": [
  {
   "cell_type": "code",
   "execution_count": null,
   "id": "e6e0a036",
   "metadata": {},
   "outputs": [],
   "source": [
    "import pandas as pd\n",
    "import os\n",
    "import numpy as np\n",
    "import matplotlib.pyplot as plt"
   ]
  },
  {
   "cell_type": "code",
   "execution_count": null,
   "id": "70b02fd1",
   "metadata": {},
   "outputs": [],
   "source": [
    "def merge_excel(path):  #输入路径，得到合并后的数据\n",
    "    data = pd.DataFrame()\n",
    "    #data.info()\n",
    "    #temp_data = pd.DataFrame()\n",
    "    files = os.listdir(path)\n",
    "    for i,file in enumerate (files):\n",
    "        file_path = os.path.join(path,file)\n",
    "        temp_data = pd.read_excel(file_path,names=None,sheet_name='Sheet1',index_col=None,header=None) #读取excel\n",
    "        #print(data.shape);print(temp_data.shape)\n",
    "        data = pd.concat([data,temp_data],axis=0)  #按行合并\n",
    "    #data.info()\n",
    "    print(path,\"的合并数据大小为： \",data.shape)\n",
    "    return data\n",
    "\n",
    "def merge_data(df1,df2):\n",
    "    merge_df=pd.concat([df1,df2],axis=0)\n",
    "    print(\"合并后的有效数据大小为： \",merge_df.shape)\n",
    "    return merge_df\n",
    "\n",
    "def process_data(df):\n",
    "    data=df\n",
    "\n",
    "    data.drop_duplicates(inplace =True)   #删除重复行数据\n",
    "    data.rename(columns ={0:'data',1:'ID',2:'name',3:'gender',4:'age',5:'position',\n",
    "                              6:'Acquisition',7:'registration',8:'x',9:'y',10:'z',11:'comment',12:'other'},inplace =True)\n",
    "    #data.drop(['registration','data','comment','other'],axis=1,inplace=True)   #删除无用列，不确定拿到后续数据的扩展性，弃用此方法\n",
    "    #data = data.set_index('data')\n",
    "    data = data.loc[:,['ID','name','gender','age','position','Acquisition','x','y','z']] #保留想要的列\n",
    "    info_col = ['ID','name','gender','age','position','Acquisition'] #需补全信息列\n",
    "    dat_col = ['x','y','z']   #数据列\n",
    "    data[info_col] = data[info_col].ffill()   #info列填充上一行的非空值，赋值操作，不需要inplace 操作\n",
    "    \n",
    "    data = data.groupby('ID').filter(lambda x: len(x)!=1)  #筛选掉所有只有单次的数据\n",
    "    \n",
    "    #把x,y,z三列转换为数据类型，不能转成的转为nan，写的文字和角度都被转为999,用作下一步筛选  \n",
    "    data[dat_col] = data[dat_col].apply(pd.to_numeric, errors='coerce').fillna(999)\n",
    "    data.loc[(abs(data.x)>0.55)|(abs(data.y)>0.55)|(abs(data.z)>0.55)] = np.nan   #误差＞0.55都重复摆位，转为NaN数据\n",
    "    data.dropna(inplace = True)                                                   #删除有空值的行，此行数据均为摆位超标数据\n",
    "    \n",
    "    #data.info()\n",
    "    #print(\"处理后的有效数据大小为： \",data.shape)\n",
    "    return data\n",
    "\n",
    "def cal_mean_std(df):\n",
    "    cal_data = df\n",
    "    mean_num = [] ; std_num = []\n",
    "    x_mean = cal_data.groupby(['ID'])['x'].mean().tolist()        #提取x方向的摆位误差均值，按照ID区分不同病人数据,并转为成列表\n",
    "    mean_num.append(x_mean)\n",
    "    x_std  = cal_data.groupby(['ID'])['x'].std(ddof=0).tolist()  #提取x方向的摆位误差标准差，ddof=0在pandas中表示求样本标准差\n",
    "    std_num.append(x_std)\n",
    "    y_mean = cal_data.groupby(['ID'])['y'].mean().tolist()\n",
    "    mean_num.append(y_mean)\n",
    "    y_std = cal_data.groupby(['ID'])['y'].std(ddof=0).tolist()\n",
    "    std_num.append(y_std)\n",
    "    z_mean = cal_data.groupby(['ID'])['z'].mean().tolist()\n",
    "    mean_num.append(z_mean)\n",
    "    z_std = cal_data.groupby(['ID'])['z'].std(ddof=0).tolist()\n",
    "    std_num.append(z_std)\n",
    "    #mean_num 和std_num 长度均为3，包括3个列表，代表X,Y,Z三个方向的数据，其中每个列表的个数代表由多少个不同的ID号也即是病例数\n",
    "    if len(mean_num[1])<=1 or len(std_num[1])<=1:\n",
    "        print(\"数据不足计算！\")\n",
    "        \n",
    "    print(\"患者病例数：\",len(mean_num[1]))\n",
    "    #print(mean_num,std_num)\n",
    "    return mean_num,std_num\n",
    "\n",
    "def cal_sigma_delta(mean,std):\n",
    "    sigma = [];delta = []\n",
    "    for i in range (3):\n",
    "        sigma.append(np.std(mean[i],ddof = 1));\n",
    "        delta.append(np.sqrt(np.mean(np.array(std[i])**2)))        \n",
    "    return sigma,delta\n",
    "\n",
    "def cal_margin(sigma,delta):\n",
    "    sigma = 10*np.array(sigma); delta = 10*np.array(delta)\n",
    "    extend_margin = 2.5*sigma+0.7*np.array(delta)\n",
    "    print(\"x方向推荐外放边界为：\",round(extend_margin[0],3),\"mm\")\n",
    "    print(\"y方向推荐外放边界为：\",round(extend_margin[1],3),\"mm\")\n",
    "    print(\"z方向推荐外放边界为：\",round(extend_margin[2],3),\"mm\")\n",
    "    return extend_margin\n",
    "\n",
    "def screen_data(data):\n",
    "    #data_head = data.groupby('position').filter(lambda x: str(x)=='头部')\n",
    "    #data_chest = data.groupby('position').filter(lambda x: str(x)=='胸部')\n",
    "    #data_abdomen = data.groupby('position').filter(lambda x: str(x)=='腹部')\n",
    "    #data_head=data['position'].str.startswith('头')\n",
    "    data_head = data.loc[data['position'].str.contains('头|颈|脑|鼻|喉|舌|咽|颌|唇|口|耳|腭|扁桃|腮腺|颞叶|颊|眼|NK|鄂|颅|甲状腺|牙龈|声带|肩|锁骨|枕叶|面部')]\n",
    "    data_chest = data.loc[data['position'].str.contains('胸|纵隔|肺|食管|乳|腋|肋|支气管|胸部|ESO')]\n",
    "    data_abdomen = data.loc[data['position'].str.contains('肝|肾|胃|贲门|结肠|小肠|腹')]\n",
    "    data_pelvis = data.loc[data['position'].str.contains('宫颈|前列腺|直肠|卵巢|精原|髂骨|子宫|盆腔|睾丸|肛|股骨|膀胱|阴茎|阴道|髋')]\n",
    "    \n",
    "    #data.info()\n",
    "    #data_head.info()\n",
    "    return data_head,data_chest,data_abdomen,data_pelvis\n",
    "\n",
    "def manual_screen_data(data,params):  #如果输入*params的话 ，就是把输入参数再作为一个元组\n",
    "    print(params)\n",
    "    data_screen = pd.DataFrame()\n",
    "    for param in params:\n",
    "        print(param)\n",
    "        data_temp = data.loc[data['position'].str.contains(str(param))]\n",
    "        data_screen = pd.concat([data_screen,data_temp],axis=0)\n",
    "    return data_screen"
   ]
  },
  {
   "cell_type": "code",
   "execution_count": null,
   "id": "91e88558",
   "metadata": {},
   "outputs": [],
   "source": [
    "NO_1_path = 'E:\\paper\\摆位误差分析\\一号机CBCT'; NO_3_path ='E:\\paper\\摆位误差分析\\三号机CBCT'\n",
    "data_1 = merge_excel(NO_1_path)  #合并文件内表格数据，并转为dataframe\n",
    "\n",
    "data_3 = merge_excel(NO_3_path)\n",
    "data_origin=merge_data(data_1,data_3)\n",
    "data_1=process_data(data_1)    #数据预处理\n",
    "\n",
    "data_3=process_data(data_3)\n",
    "\n",
    "final_data = merge_data(data_1,data_3)\n",
    "final_data = process_data(final_data)\n",
    "print(\"完整数据大小为： \",final_data.shape)\n",
    "data_head,data_chest,data_abdomen,data_pelvis = screen_data(final_data)\n",
    "#print(data.head(10))\n",
    "print(\"头颈部肿瘤数据:\")\n",
    "print(\"数据大小为：\",data_head.shape)\n",
    "mean_num,std_num = cal_mean_std(data_head)    #计算不同患者的摆位误差的平均值和标准差\n",
    "sigma,delta = cal_sigma_delta(mean_num,std_num)              #计算sigma和delta\n",
    "cal_margin(sigma,delta);                                              #计算外放边界\n",
    "\n",
    "print(\"胸部肿瘤数据:\")\n",
    "print(\"数据大小为：\",data_chest.shape)\n",
    "mean_num,std_num = cal_mean_std(data_chest)    #计算不同患者的摆位误差的平均值和标准差\n",
    "sigma,delta = cal_sigma_delta(mean_num,std_num)              #计算sigma和delta\n",
    "cal_margin(sigma,delta);                                              #计算外放边界\n",
    "\n",
    "print(\"腹部肿瘤数据:\")\n",
    "print(\"数据大小为：\",data_abdomen.shape)\n",
    "mean_num,std_num = cal_mean_std(data_abdomen)    #计算不同患者的摆位误差的平均值和标准差\n",
    "sigma,delta = cal_sigma_delta(mean_num,std_num)              #计算sigma和delta\n",
    "cal_margin(sigma,delta);                                              #计算外放边界\n",
    "\n",
    "print(\"盆腔肿瘤数据:\")\n",
    "print(\"数据大小为：\",data_pelvis.shape)\n",
    "mean_num,std_num = cal_mean_std(data_pelvis)    #计算不同患者的摆位误差的平均值和标准差\n",
    "sigma,delta = cal_sigma_delta(mean_num,std_num)              #计算sigma和delta\n",
    "cal_margin(sigma,delta);                                              #计算外放边界\n",
    "\n"
   ]
  },
  {
   "cell_type": "code",
   "execution_count": null,
   "id": "4bfb345d",
   "metadata": {},
   "outputs": [],
   "source": [
    "cancer = ('乳腺','乳')#,'结肠'  #多个输入的时候整体输入为元组，单一输入的时候单一输入为变量，for循环会分别筛选“直”和“肠”字符\n",
    "\n",
    "data_define = manual_screen_data(final_data,cancer);\n",
    "print(\"%s数据为:%d条\"%(cancer,len(data_define.index)))\n",
    "mean_num,std_num = cal_mean_std(data_define)    #计算不同患者的摆位误差的平均值和标准差\n",
    "sigma,delta = cal_sigma_delta(mean_num,std_num)              #计算sigma和delta\n",
    "print('x,y,z的系统误差为：',sigma,'\\nx,y,z的随机误差为：',delta)\n",
    "cal_margin(sigma,delta);                                              #计算外放边界"
   ]
  },
  {
   "cell_type": "code",
   "execution_count": null,
   "id": "47156d77",
   "metadata": {},
   "outputs": [],
   "source": [
    "#保存excel代码段\n",
    "writer = pd.ExcelWriter(r'E:\\paper\\摆位误差分析\\test\\test.xls')\n",
    "final_data.to_excel(writer,sheet_name = 'Sheet1',index = False)\n",
    "writer.save()\n",
    "writer.close()"
   ]
  },
  {
   "cell_type": "code",
   "execution_count": null,
   "id": "c37ad1c4",
   "metadata": {},
   "outputs": [],
   "source": [
    "final_data.plot.bar(y='x')\n"
   ]
  },
  {
   "cell_type": "code",
   "execution_count": null,
   "id": "0f6124d0",
   "metadata": {},
   "outputs": [],
   "source": [
    "final_data.boxplot()\n"
   ]
  },
  {
   "cell_type": "code",
   "execution_count": null,
   "id": "bf36d368",
   "metadata": {},
   "outputs": [],
   "source": [
    "# 绘制多子图\n",
    "final_data.hist(color=\"gray\", bins=50)#, alpha=0.5\n"
   ]
  },
  {
   "cell_type": "code",
   "execution_count": null,
   "id": "183d040d",
   "metadata": {},
   "outputs": [],
   "source": [
    "data_head.boxplot()"
   ]
  },
  {
   "cell_type": "code",
   "execution_count": null,
   "id": "ca932bb8",
   "metadata": {},
   "outputs": [],
   "source": [
    "#摆位数据录入\n",
    "error_path = r'E:\\paper\\摆位误差分析\\test\\摆位有效数据.xls'\n",
    "error_data = pd.read_excel(error_path,names=None,sheet_name='Sheet1',index_col= None,header=0)\n",
    "error_data.sort_values('ID', ascending=True,inplace = True)\n",
    "error_data.set_index('ID')\n",
    "error_data = error_data.loc[:,['ID','name','gender','age','position','x','y','z']]"
   ]
  },
  {
   "cell_type": "code",
   "execution_count": null,
   "id": "39cde089",
   "metadata": {},
   "outputs": [],
   "source": [
    "#登记数据录入\n",
    "regs_path = r'E:\\paper\\摆位误差分析\\test\\登记数据.xlsx'\n",
    "regs_data = pd.read_excel(regs_path,names=None,sheet_name='合并',index_col= None,header=None)\n",
    "regs_data.drop([0],inplace = True)\n",
    "regs_data.rename(columns ={0:'data',1:'ID',2:'name',3:'gender',4:'age',5:'part',\n",
    "                              6:'disease',7:'doctor',8:'height',9:'weight'},inplace =True)"
   ]
  },
  {
   "cell_type": "code",
   "execution_count": null,
   "id": "041b3189",
   "metadata": {},
   "outputs": [],
   "source": [
    "#录入BMI数据\n",
    "#regs_data.drop(['data','part','doctor'],axis = 1,inplace = True)   #删除指定列\n",
    "bmi_info = regs_data[['ID','height','weight']]\n",
    "bmi_info['ID'] = bmi_info.loc[:,'ID'].apply(pd.to_numeric, errors='coerce')#.fillna(999)\n",
    "bmi_info.dropna(inplace = True)\n",
    "bmi_info.sort_values('ID', ascending=True,inplace = True)\n",
    "bmi_info"
   ]
  },
  {
   "cell_type": "code",
   "execution_count": null,
   "id": "b0ddfc72",
   "metadata": {},
   "outputs": [],
   "source": [
    "error_bmi = error_data.merge(bmi_info, left_on='ID', right_on='ID', how='inner')\n",
    "error_bmi.sort_values('ID', ascending=True,inplace = True)\n",
    "#error_data.join(diseases)\n",
    "error_bmi.info()"
   ]
  },
  {
   "cell_type": "code",
   "execution_count": null,
   "id": "47030127",
   "metadata": {},
   "outputs": [],
   "source": [
    "#整合定位的ID号和诊断信息\n",
    "sim2020_path = r'E:\\paper\\摆位误差分析\\test\\2020年定位记录表.xlsx'\n",
    "sim_2020 = pd.read_excel(sim2020_path,names=None,sheet_name='定位',index_col= None,header=None)\n",
    "sim_2020.drop([0],inplace = True)\n",
    "sim_2020.rename(columns ={0:'data',1:'ID',2:'name',3:'gender',4:'age',5:'part',\n",
    "                              6:'no.1',7:'no.2',8:'disease',9:'weight'},inplace =True)\n",
    "t_2020 = sim_2020[['ID','disease']]\n",
    "#t_2020.info()\n",
    "\n",
    "sim2021_path = r'E:\\paper\\摆位误差分析\\test\\2021年定位记录表.xlsx'\n",
    "sim_2021 = pd.read_excel(sim2021_path,names=None,sheet_name='定位',index_col= None,header=None)\n",
    "sim_2021.drop([0],inplace = True)\n",
    "sim_2021.rename(columns ={0:'data',1:'ID',2:'name',3:'gender',4:'age',5:'part',\n",
    "                              6:'no.1',7:'no.2',8:'disease',9:'weight'},inplace =True)\n",
    "t_2021 = sim_2021[['ID','disease']]\n",
    "#t_2021.drop([0],inplace = True)\n",
    "sim_all = pd.concat([t_2020,t_2021],axis=0)\n",
    "#t_2021.info()\n",
    "\n",
    "sim2022_path = r'E:\\paper\\摆位误差分析\\test\\2022年定位记录表.xlsx'\n",
    "sim_2022 = pd.read_excel(sim2022_path,names=None,sheet_name='定位',index_col= None,header=None)\n",
    "sim_2022.drop([0],inplace = True)\n",
    "sim_2022.rename(columns ={0:'data',1:'ID',2:'name',3:'gender',4:'age',5:'part',\n",
    "                              6:'no.1',7:'no.2',8:'disease',9:'weight'},inplace =True)\n",
    "t_2022 = sim_2022[['ID','disease']]\n",
    "#t_2022.drop([0],inplace = True)\n",
    "#t_2022.info()\n",
    "sim_all = pd.concat([sim_all,t_2022],axis=0)\n"
   ]
  },
  {
   "cell_type": "code",
   "execution_count": null,
   "id": "f85e93cf",
   "metadata": {},
   "outputs": [],
   "source": [
    "sim_all['ID'] = sim_all['ID'].apply(pd.to_numeric, errors='coerce')\n",
    "sim_all.dropna(inplace = True)\n",
    "sim_all.sort_values('ID', ascending=True,inplace = True)\n",
    "sim_all"
   ]
  },
  {
   "cell_type": "code",
   "execution_count": null,
   "id": "e0e4ea49",
   "metadata": {},
   "outputs": [],
   "source": [
    "error_bmi_sim = error_bmi.merge(sim_all, left_on='ID', right_on='ID', how='inner')\n",
    "error_bmi_sim.drop_duplicates(inplace =True) \n",
    "error_bmi_sim"
   ]
  },
  {
   "cell_type": "code",
   "execution_count": null,
   "id": "6ec16b5d",
   "metadata": {},
   "outputs": [],
   "source": [
    "error_bmi_sim.info()"
   ]
  },
  {
   "cell_type": "code",
   "execution_count": null,
   "id": "d81ee7a4",
   "metadata": {},
   "outputs": [],
   "source": [
    "error_bmi_sim.drop_duplicates(['ID','name','x','y','z'],keep = 'first',inplace = True) "
   ]
  },
  {
   "cell_type": "code",
   "execution_count": null,
   "id": "699f4f52",
   "metadata": {},
   "outputs": [],
   "source": [
    "error_bmi_sim.info()"
   ]
  },
  {
   "cell_type": "code",
   "execution_count": null,
   "id": "4f422bb5",
   "metadata": {},
   "outputs": [],
   "source": [
    "#保存excel代码段\n",
    "writer = pd.ExcelWriter(r'E:\\paper\\摆位误差分析\\test\\final_error_bmi_sim_final.xls')\n",
    "error_bmi_sim.to_excel(writer,sheet_name = 'Sheet1',index = False)\n",
    "writer.save()\n",
    "writer.close()"
   ]
  },
  {
   "cell_type": "code",
   "execution_count": null,
   "id": "d61da3b6",
   "metadata": {},
   "outputs": [],
   "source": [
    "error_bmi_sim.groupby('ID').count()"
   ]
  },
  {
   "cell_type": "code",
   "execution_count": null,
   "id": "8cee9913",
   "metadata": {},
   "outputs": [],
   "source": [
    "error_bmi_sim[['height','weight']] = error_bmi_sim[['height','weight']].apply(pd.to_numeric, errors='coerce') \n",
    "error_bmi_sim.eval('bmi = weight/(height/100)',inplace = True)#, inplace=True"
   ]
  },
  {
   "cell_type": "code",
   "execution_count": null,
   "id": "7f7adb0e",
   "metadata": {},
   "outputs": [],
   "source": [
    "#保存excel代码段\n",
    "writer = pd.ExcelWriter(r'E:\\paper\\摆位误差分析\\test\\final_error_bmi_sim_cal.xls')\n",
    "error_bmi_sim.to_excel(writer,sheet_name = 'Sheet1',index = False)\n",
    "writer.save()\n",
    "writer.close()"
   ]
  },
  {
   "cell_type": "code",
   "execution_count": null,
   "id": "4c66d82b",
   "metadata": {},
   "outputs": [],
   "source": [
    "path = r'E:\\paper\\摆位误差分析\\test\\final_error_bmi_sim_cal.xls'\n",
    "error_bmi_sim = pd.read_excel(path,names=None,sheet_name='Sheet1',index_col= None,header=0)\n",
    "final_lung = error_bmi_sim.loc[error_bmi_sim['disease'].str.contains('肺')]"
   ]
  },
  {
   "cell_type": "code",
   "execution_count": null,
   "id": "a47e4f5d",
   "metadata": {},
   "outputs": [],
   "source": [
    "final_lung.info()"
   ]
  },
  {
   "cell_type": "code",
   "execution_count": null,
   "id": "5d17544d",
   "metadata": {},
   "outputs": [],
   "source": [
    "final_lung.dropna(inplace = True)\n",
    "final_lung.info()"
   ]
  },
  {
   "cell_type": "code",
   "execution_count": null,
   "id": "25d2c4b9",
   "metadata": {},
   "outputs": [],
   "source": [
    "#保存excel代码段\n",
    "writer = pd.ExcelWriter(r'E:\\paper\\摆位误差分析\\test\\final_lung.xls')\n",
    "final_lung.to_excel(writer,sheet_name = 'Sheet1',index = False)\n",
    "writer.save()\n",
    "writer.close()"
   ]
  },
  {
   "cell_type": "code",
   "execution_count": null,
   "id": "e15f4676",
   "metadata": {},
   "outputs": [],
   "source": [
    "path = r'E:\\paper\\摆位误差分析\\test\\final_lung.xls'\n",
    "final_lung = pd.read_excel(path,names=None,sheet_name='Sheet1',index_col= None,header=0)"
   ]
  },
  {
   "cell_type": "code",
   "execution_count": null,
   "id": "c5008298",
   "metadata": {},
   "outputs": [],
   "source": [
    "final_lung.eval('bmi = weight/((height/100)**2)',inplace = True)\n",
    "final_lung"
   ]
  },
  {
   "cell_type": "code",
   "execution_count": null,
   "id": "dbdeaf70",
   "metadata": {},
   "outputs": [],
   "source": [
    "final_lung.sort_values('ID', ascending=True,inplace = True)"
   ]
  },
  {
   "cell_type": "code",
   "execution_count": null,
   "id": "01464a1f",
   "metadata": {},
   "outputs": [],
   "source": [
    "#保存excel代码段\n",
    "writer = pd.ExcelWriter(r'E:\\paper\\摆位误差分析\\test\\final_lung.xls')\n",
    "final_lung.to_excel(writer,sheet_name = 'Sheet1',index = False)\n",
    "writer.save()\n",
    "writer.close()"
   ]
  },
  {
   "cell_type": "code",
   "execution_count": null,
   "id": "7e393981",
   "metadata": {},
   "outputs": [],
   "source": [
    "#摆位登记病种和定位登记病种\n",
    "final_lung = final_lung.loc[final_lung['disease'].str.contains('肺') & final_lung['position'].str.contains('肺|胸')]"
   ]
  },
  {
   "cell_type": "code",
   "execution_count": null,
   "id": "87a7086a",
   "metadata": {},
   "outputs": [],
   "source": [
    "final_lung.info()"
   ]
  },
  {
   "cell_type": "code",
   "execution_count": null,
   "id": "75a1b216",
   "metadata": {},
   "outputs": [],
   "source": [
    "writer = pd.ExcelWriter(r'E:\\paper\\摆位误差分析\\test\\final_lung.xls')\n",
    "final_lung.to_excel(writer,sheet_name = 'Sheet1',index = False)\n",
    "writer.save()\n",
    "writer.close()"
   ]
  },
  {
   "cell_type": "code",
   "execution_count": null,
   "id": "fc90f53f",
   "metadata": {},
   "outputs": [],
   "source": [
    "final_lung.groupby('ID').count()"
   ]
  },
  {
   "cell_type": "code",
   "execution_count": null,
   "id": "e56a635b",
   "metadata": {},
   "outputs": [],
   "source": [
    "mean_num,std_num = cal_mean_std(final_lung)    #计算不同患者的摆位误差的平均值和标准差\n",
    "sigma,delta = cal_sigma_delta(mean_num,std_num)              #计算sigma和delta\n",
    "cal_margin(sigma,delta);                                              #计算外放边界"
   ]
  },
  {
   "cell_type": "code",
   "execution_count": null,
   "id": "22d898bc",
   "metadata": {},
   "outputs": [],
   "source": [
    "path = r'E:\\paper\\摆位误差分析\\test\\final_lung.xls'\n",
    "final_lung = pd.read_excel(path,names=None,sheet_name='Sheet1',index_col= None,header=0)"
   ]
  },
  {
   "cell_type": "code",
   "execution_count": null,
   "id": "b774ef70",
   "metadata": {},
   "outputs": [],
   "source": [
    "final_lung['age'] = final_lung['age'].apply(pd.to_numeric, errors='coerce')\n",
    "age_list = final_lung.groupby('ID')['age'].mean().tolist()#['age']"
   ]
  },
  {
   "cell_type": "code",
   "execution_count": null,
   "id": "da6fdaba",
   "metadata": {},
   "outputs": [],
   "source": [
    "np.min(age_list)"
   ]
  },
  {
   "cell_type": "code",
   "execution_count": null,
   "id": "c3a334ed",
   "metadata": {},
   "outputs": [],
   "source": [
    "lung_male = final_lung.loc[(final_lung['gender'].str.contains('男'))]#.tolist(),'ID'\n",
    "lung_female = final_lung.loc[(final_lung['gender'].str.contains('女'))]#.tolist(),'ID'"
   ]
  },
  {
   "cell_type": "code",
   "execution_count": null,
   "id": "072efa9e",
   "metadata": {},
   "outputs": [],
   "source": [
    "#print(set(male_ID)&set(female_ID))  #转化成集合求交集\n",
    "print(set(lung_male)&set(lung_female))"
   ]
  },
  {
   "cell_type": "code",
   "execution_count": null,
   "id": "9a9063c7",
   "metadata": {},
   "outputs": [],
   "source": [
    "lung_male.groupby('ID').count()"
   ]
  },
  {
   "cell_type": "code",
   "execution_count": null,
   "id": "a664aacf",
   "metadata": {},
   "outputs": [],
   "source": [
    "lung_female.groupby('ID').count()"
   ]
  },
  {
   "cell_type": "code",
   "execution_count": null,
   "id": "0e67c9ff",
   "metadata": {},
   "outputs": [],
   "source": []
  }
 ],
 "metadata": {
  "kernelspec": {
   "display_name": "Python 3 (ipykernel)",
   "language": "python",
   "name": "python3"
  },
  "language_info": {
   "codemirror_mode": {
    "name": "ipython",
    "version": 3
   },
   "file_extension": ".py",
   "mimetype": "text/x-python",
   "name": "python",
   "nbconvert_exporter": "python",
   "pygments_lexer": "ipython3",
   "version": "3.8.12"
  }
 },
 "nbformat": 4,
 "nbformat_minor": 5
}
